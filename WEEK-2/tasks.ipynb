{
 "cells": [
  {
   "attachments": {
    "image.png": {
     "image/png": "[encoded data removed]"
    }
   },
   "cell_type": "markdown",
   "metadata": {},
   "source": [
    "# Question 1 Approach \n",
    "The program gathers information from the user including name, age, email, and favorite number. It ensures that the email entered by the user is valid by checking for the presence of both '@' and '.' characters. If the email format is invalid, the program prompts the user to re-enter it. Finally, the user's information is stored in a dictionary and displayed.\n",
    "\n",
    "## Functions\n",
    "\n",
    "### `valid_email(email)`\n",
    "- **Purpose**: Checks if the given email address is valid.\n",
    "- **Parameters**:\n",
    "  - `email` (str): The email address to be validated.\n",
    "- **Returns**:\n",
    "  - `True` if the email contains both '@' and '.'.\n",
    "  - `False` otherwise.\n",
    "\n",
    "## Steps\n",
    "\n",
    "1. **Input Gathering**:\n",
    "   - Use Python's `input()` function to collect the following information from the user:\n",
    "     - Name (str)\n",
    "     - Age (int)\n",
    "     - Email (str)\n",
    "     - Favorite number (int)\n",
    "\n",
    "2. **Email Validation Loop**:\n",
    "   - Implement a `while` loop that continues until a valid email format is entered:\n",
    "     - Check if the email is valid using the `valid_email(email)` function.\n",
    "     - If the email format is invalid, display an error message and prompt the user to enter their email again.\n",
    "\n",
    "3. **Data Storage**:\n",
    "   - Create a dictionary (`user_info_dict`) to store the user's information including:\n",
    "     - 'name': User's name (str)\n",
    "     - 'age': User's age (int)\n",
    "     - 'email': User's email address (str)\n",
    "     - 'favorite_number': User's favorite number (int)\n",
    "\n",
    "4. **Output**:\n",
    "   ![image.png](attachment:image.png)\n",
    "\n",
    "\n"
   ]
  },
  {
   "cell_type": "code",
   "execution_count": 16,
   "metadata": {},
   "outputs": [
    {
     "name": "stdout",
     "output_type": "stream",
     "text": [
      "Hello Zunysha, you are 21 years old, your email is zunysha.ch@gmail.com, and your favorite number is 6.\n"
     ]
    }
   ],
   "source": [
    "# Question 1\n",
    "\n",
    "def valid_email(email):\n",
    "    if \"@\" in email and \".\" in email:\n",
    "            return True\n",
    "    return False\n",
    "\n",
    "name = input(\"ENTWE NAME: \")\n",
    "age = input(\"ENTER AGE: \")\n",
    "email = input(\"ENTER EMAIL: \")\n",
    "favorite_number = input(\"ENTER YOUR FAVOURITENUMBER: \")\n",
    "\n",
    "while not valid_email(email):\n",
    "    print(\"Invalid email format. Please try again.\")\n",
    "    email = input(\"Enter your email: \")\n",
    "\n",
    "dic = {\n",
    "    \"name\": name,\n",
    "    \"age\": age,\n",
    "    \"email\": email,\n",
    "    \"favorite_number\": favorite_number\n",
    "}\n",
    "\n",
    "print(f\"Hello {dic['name']}, you are {dic['age']} years old, your email is {dic['email']}, and your favorite number is {dic['favorite_number']}.\")\n"
   ]
  },
  {
   "attachments": {
    "image.png": {
     "image/png": "[encoded data removed]"
    }
   },
   "cell_type": "markdown",
   "metadata": {},
   "source": [
    "# Question 2 Approach \n",
    "The program defines a function `is_even` that takes a number as input, calculates its remainder when divided by 2, and returns `True` if the remainder is 0 (indicating the number is even). Otherwise, it returns `False`.\n",
    "\n",
    "## Function\n",
    "\n",
    "### `is_even(number)`\n",
    "- **Purpose**: Checks if the given number is even.\n",
    "- **Parameters**:\n",
    "  - `number` (int): The number to be checked.\n",
    "- **Returns**:\n",
    "  - `True` if `number % 2 == 0` (number is even).\n",
    "  - `False` otherwise (number is odd).\n",
    "\n",
    "## Steps\n",
    "\n",
    "1. **Function Definition**:\n",
    "   - Define a function `is_even` that accepts an integer `number` as an argument.\n",
    "\n",
    "2. **Even Check Logic**:\n",
    "   - Inside the function, calculate the remainder of `number` divided by 2 (`number % 2`).\n",
    "   - If the remainder is 0, return `True` (indicating the number is even).\n",
    "   - Otherwise, return `False` (indicating the number is odd).\n",
    "\n",
    "## Output\n",
    "\n",
    "![image.png](attachment:image.png)\n"
   ]
  },
  {
   "cell_type": "code",
   "execution_count": 7,
   "metadata": {},
   "outputs": [
    {
     "name": "stdout",
     "output_type": "stream",
     "text": [
      "False\n"
     ]
    }
   ],
   "source": [
    "# Question 2\n",
    "def Is_even(number):\n",
    "    if number % 2 == 0:\n",
    "        print(\"True\")\n",
    "        return True\n",
    "    else:\n",
    "        print(\"False\")\n",
    "        return False\n",
    "value = int(input(\"Enter Integer: \"))\n",
    "result = Is_even(value)\n"
   ]
  },
  {
   "attachments": {
    "image.png": {
     "image/png": "[encoded data removed]"
    }
   },
   "cell_type": "markdown",
   "metadata": {},
   "source": [
    "# Question 3 Approach \n",
    "The program defines a function `convert_temperature` that takes a temperature value (`temp`) and a scale (`scale`) as parameters. It converts the temperature to the opposite scale (Celsius to Fahrenheit or Fahrenheit to Celsius) based on the input scale provided.\n",
    "\n",
    "## Function\n",
    "\n",
    "### `convert_temperature(temp, scale)`\n",
    "- **Purpose**: Converts a temperature value from one scale to another.\n",
    "- **Parameters**:\n",
    "  - `temp` (float): The temperature value to be converted.\n",
    "  - `scale` (str): The scale of the temperature ('C' for Celsius or 'F' for Fahrenheit).\n",
    "- **Returns**:\n",
    "  - None. The function directly prints the converted temperature.\n",
    "\n",
    "## Steps\n",
    "\n",
    "1. **Function Definition**:\n",
    "   - Define a function `convert_temperature` that accepts two arguments: `temp` (temperature value) and `scale` (temperature scale identifier).\n",
    "\n",
    "2. **Temperature Conversion Logic**:\n",
    "   - Inside the function, check if the `scale` parameter is 'C' (Celsius) or 'F' (Fahrenheit).\n",
    "   - Convert the temperature to the opposite scale:\n",
    "     - **Celsius to Fahrenheit**: `(temp * 9/5) + 32`\n",
    "     - **Fahrenheit to Celsius**: `(temp - 32) * 5/9`\n",
    "   - Print the converted temperature value.\n",
    "\n",
    "## Output \n",
    "![image.png](attachment:image.png)"
   ]
  },
  {
   "cell_type": "code",
   "execution_count": 10,
   "metadata": {},
   "outputs": [
    {
     "name": "stdout",
     "output_type": "stream",
     "text": [
      "105 degrees Fahrenheit is equal to 40.55555555555556 degrees Celsius.\n"
     ]
    },
    {
     "data": {
      "text/plain": [
       "40.55555555555556"
      ]
     },
     "execution_count": 10,
     "metadata": {},
     "output_type": "execute_result"
    }
   ],
   "source": [
    "# Question 3\n",
    "def convert_temperature(temp, scale):\n",
    "    if scale == \"C\":\n",
    "        new_temp = (temp * 9/5) + 32\n",
    "        print(f\"{temp} degrees Celsius is equal to {new_temp} degrees Fahrenheit.\")\n",
    "        return new_temp\n",
    "    elif scale == \"F\":\n",
    "        new_temp = (temp - 32) * 5/9\n",
    "        print(f\"{temp} degrees Fahrenheit is equal to {new_temp} degrees Celsius.\")\n",
    "        return new_temp\n",
    "    else:\n",
    "        print(\"Invalid scale. Please use 'C' for Celsius or 'F' for Fahrenheit.\")\n",
    "\n",
    "convert_temperature(105, \"F\")\n",
    "\n"
   ]
  },
  {
   "attachments": {
    "image.png": {
     "image/png": "[encoded data removed]"
    }
   },
   "cell_type": "markdown",
   "metadata": {},
   "source": [
    "# Question 4 Approach \n",
    "The program prompts the user to enter 5 numbers. It then stores these numbers in a list called `values`. After storing the numbers, it calls a function `find_max_min` to find the maximum and minimum numbers in the list. Finally, it prints the maximum and minimum numbers if they exist, otherwise, it prints a message indicating that the list is empty.\n",
    "\n",
    "## Steps\n",
    "\n",
    "1. **Input Gathering**:\n",
    "   - The program uses a `for` loop to iterate 5 times, prompting the user to enter a number each time.\n",
    "   - Each entered number is converted to an integer (`int`) and appended to the `values` list.\n",
    "\n",
    "2. **Function Definition: `find_max_min(numbers_list)`**:\n",
    "   - **Purpose**: Finds the maximum and minimum numbers in a given list of numbers (`numbers_list`).\n",
    "   - **Parameters**:\n",
    "     - `numbers_list` (list of int): The list of numbers in which to find the maximum and minimum.\n",
    "   - **Returns**:\n",
    "     - A tuple `(max_num, min_num)` where `max_num` is the maximum number in `numbers_list` and `min_num` is the minimum number.\n",
    "     - If the list is empty (`numbers_list` is `None`), it returns `(None, None)`.\n",
    "\n",
    "3. **Finding Maximum and Minimum**:\n",
    "   - The program calls the `find_max_min` function with the `values` list to obtain the maximum and minimum numbers.\n",
    "   - It assigns the returned values to `max_num` and `min_num`.\n",
    "\n",
    "4. **Output**:\n",
    "   - It checks if both `max_num` and `min_num` are not `None` (indicating the list is not empty).\n",
    "   - If valid maximum and minimum numbers are found, it prints:\n",
    "     - \"Maximum number: {max_num}\"\n",
    "     - \"Minimum number: {min_num}\"\n",
    "   - If the list is empty (both `max_num` and `min_num` are `None`), it prints:\n",
    "     - \"List is empty. No maximum and minimum.\"\n",
    "\n",
    "## Output \n",
    "![image.png](attachment:image.png)\n"
   ]
  },
  {
   "cell_type": "code",
   "execution_count": 13,
   "metadata": {},
   "outputs": [
    {
     "name": "stdout",
     "output_type": "stream",
     "text": [
      "Maximum number: 8654\n",
      "Minimum number: 2\n"
     ]
    }
   ],
   "source": [
    "# Question 4\n",
    "values = []\n",
    "for i in range(5):\n",
    "    x = int(input(f\"Enter number {i+1}: \"))\n",
    "    values.append(x)\n",
    "\n",
    "\n",
    "def find_max_min(numbers_list):\n",
    "    if not numbers_list:\n",
    "        return None, None\n",
    "    max_num = max(numbers_list)\n",
    "    min_num = min(numbers_list)\n",
    "    return max_num, min_num\n",
    "\n",
    "max_num, min_num = find_max_min(values)\n",
    "\n",
    "if max_num is not None and min_num is not None:\n",
    "    print(f\"Maximum number: {max_num}\")\n",
    "    print(f\"Minimum number: {min_num}\")\n",
    "else:\n",
    "    print(\"List is empty. No maximum and minimum.\")\n"
   ]
  },
  {
   "attachments": {
    "image.png": {
     "image/png": "[encoded data removed]"
    }
   },
   "cell_type": "markdown",
   "metadata": {},
   "source": [
    "# Question 5 Approach \n",
    "\n",
    "The program collects details for 3 students including their name, age, and grade. It stores these details in a list of tuples (`students`). Each tuple contains the name, age (converted to integer), and grade provided by the user. After gathering the information, the program converts this list into a dictionary (`students_dict`) where each student's name serves as the key and their age and grade are stored as a tuple value. Finally, it displays the stored student details using a formatted output.\n",
    "\n",
    "## Steps\n",
    "\n",
    "1. **Input Gathering**:\n",
    "   - The program uses a `for` loop to iterate 3 times (`range(3)`), prompting the user to enter details for each student.\n",
    "   - Inside the loop, it prompts the user for:\n",
    "     - Name: Entered as a string (`input(\"Name: \")`).\n",
    "     - Age: Entered as an integer (`int(input(\"Age: \"))`).\n",
    "     - Grade: Entered as a string (`input(\"Grade: \")`).\n",
    "   - It appends each student's details as a tuple `(name, age, grade)` to the `students` list.\n",
    "\n",
    "2. **Dictionary Creation: `students_dict`**:\n",
    "   - After collecting all student details in the `students` list, the program constructs a dictionary (`students_dict`) using a dictionary comprehension.\n",
    "   - Each key in the dictionary is a student's name (`student[0]`), and its corresponding value is a tuple containing the student's age and grade (`(student[1], student[2])`).\n",
    "\n",
    "3. **Output Display**:\n",
    "   - The program prints the header \"Student Details:\" to indicate the following output will display student information.\n",
    "   - It iterates through the items (`name, details`) in the `students_dict`.\n",
    "   - For each student, it extracts and prints their name, age, and grade using formatted string literals (`f\"Name: {name}, Age: {age}, Grade: {grade}\"`).\n",
    "\n",
    "## Output \n",
    "![image.png](attachment:image.png)"
   ]
  },
  {
   "cell_type": "code",
   "execution_count": 18,
   "metadata": {},
   "outputs": [
    {
     "name": "stdout",
     "output_type": "stream",
     "text": [
      "Enter details for student 1:\n",
      "Enter details for student 2:\n",
      "Enter details for student 3:\n",
      "\n",
      "Student Details:\n",
      "Name: Zunysha, Age: 21, Grade: A\n",
      "Name: Laiba, Age: 20, Grade: B\n",
      "Name: Amna, Age: 19, Grade: B\n"
     ]
    }
   ],
   "source": [
    "# Question 5 \n",
    "students = []\n",
    "for i in range(3):\n",
    "    print(f\"Enter details for student {i + 1}:\")\n",
    "    name = input(\"Name: \")\n",
    "    age = int(input(\"Age: \"))\n",
    "    grade = input(\"Grade: \")\n",
    "    students.append((name, age, grade))\n",
    "\n",
    "students_dict = {student[0]: (student[1], student[2]) for student in students}\n",
    "print(\"\\nStudent Details:\")\n",
    "for name, details in students_dict.items():\n",
    "    age, grade = details\n",
    "    print(f\"Name: {name}, Age: {age}, Grade: {grade}\")"
   ]
  },
  {
   "attachments": {
    "image.png": {
     "image/png": "[encoded data removed]"
    }
   },
   "cell_type": "markdown",
   "metadata": {},
   "source": [
    "# Question 6 Approach \n",
    "\n",
    "The `update_inventory` function is designed to update an inventory dictionary based on user inputs of items and quantities to add or remove.\n",
    "\n",
    "### Parameters:\n",
    "- `inventory_dict`: Dictionary representing the current inventory where keys are item names and values are quantities.\n",
    "- `item`: Item name (string) to update or add to the inventory.\n",
    "- `quantity`: Quantity (integer) to add or remove from the inventory. Use negative values for removal.\n",
    "\n",
    "### Functionality:\n",
    "1. **Check if Item Exists**:\n",
    "   - If `item` exists in `inventory_dict`, it updates the quantity by adding `quantity` to the existing value.\n",
    "   - If `item` does not exist in `inventory_dict`, it adds `item` with `quantity` to the inventory.\n",
    "\n",
    "2. **Ensure Non-Negative Quantity**:\n",
    "   - After updating, it checks if the quantity of `item` is less than zero.\n",
    "   - If so, it sets the quantity to zero to ensure non-negative values in the inventory.\n",
    "\n",
    "3. **Return Updated Inventory**:\n",
    "   - Returns the modified `inventory_dict` after updating or adding the item.\n",
    "\n",
    "## Output:\n",
    "![image.png](attachment:image.png)\n",
    "\n"
   ]
  },
  {
   "cell_type": "code",
   "execution_count": 19,
   "metadata": {},
   "outputs": [
    {
     "name": "stdout",
     "output_type": "stream",
     "text": [
      "Updated inventory:\n",
      "pencils: 50\n",
      "notebooks: 30\n",
      "erasers: 20\n",
      "markers: 40\n",
      "rulers: 15\n",
      "box: 23\n",
      "pen: 90\n",
      "sharpner: 3\n"
     ]
    }
   ],
   "source": [
    "def update_inventory(inventory_dict, item, quantity):\n",
    "    if item in inventory_dict:\n",
    "        inventory_dict[item] += quantity\n",
    "    else:\n",
    "        inventory_dict[item] = quantity\n",
    "    if inventory_dict[item] < 0:\n",
    "        inventory_dict[item] = 0\n",
    "    \n",
    "    return inventory_dict\n",
    "\n",
    "inventory = {\n",
    "    \"pencils\": 50,\n",
    "    \"notebooks\": 30,\n",
    "    \"erasers\": 20,\n",
    "    \"markers\": 40,\n",
    "    \"rulers\": 15\n",
    "}\n",
    "\n",
    "for _ in range(3):\n",
    "    item = input(\"Enter the item to update: \")\n",
    "    quantity = int(input(\"Enter the quantity to add/remove: \"))\n",
    "    inventory = update_inventory(inventory, item, quantity)\n",
    "print(\"Updated inventory:\")\n",
    "for item, quantity in inventory.items():\n",
    "    print(f\"{item}: {quantity}\")\n"
   ]
  }
 ],
 "metadata": {
  "kernelspec": {
   "display_name": "Python 3",
   "language": "python",
   "name": "python3"
  },
  "language_info": {
   "codemirror_mode": {
    "name": "ipython",
    "version": 3
   },
   "file_extension": ".py",
   "mimetype": "text/x-python",
   "name": "python",
   "nbconvert_exporter": "python",
   "pygments_lexer": "ipython3",
   "version": "3.12.1"
  }
 },
 "nbformat": 4,
 "nbformat_minor": 2
}
